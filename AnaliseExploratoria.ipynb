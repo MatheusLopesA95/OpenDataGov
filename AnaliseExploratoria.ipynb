{
 "cells": [
  {
   "cell_type": "code",
   "execution_count": 1,
   "metadata": {},
   "outputs": [],
   "source": [
    "import pandas as pd"
   ]
  },
  {
   "cell_type": "code",
   "execution_count": 2,
   "metadata": {},
   "outputs": [],
   "source": [
    "'''Importação dos dados, link de origem:\n",
    " https://dados.gov.br/dados/conjuntos-dados/taxas-dos-titulos-ofertados-pelo-tesouro-direto1\n",
    "'''\n",
    "data = pd.read_csv('PrecoTaxaTesouroDireto.csv', sep=';')\n",
    "\n"
   ]
  },
  {
   "cell_type": "code",
   "execution_count": 3,
   "metadata": {},
   "outputs": [
    {
     "data": {
      "text/html": [
       "<div>\n",
       "<style scoped>\n",
       "    .dataframe tbody tr th:only-of-type {\n",
       "        vertical-align: middle;\n",
       "    }\n",
       "\n",
       "    .dataframe tbody tr th {\n",
       "        vertical-align: top;\n",
       "    }\n",
       "\n",
       "    .dataframe thead th {\n",
       "        text-align: right;\n",
       "    }\n",
       "</style>\n",
       "<table border=\"1\" class=\"dataframe\">\n",
       "  <thead>\n",
       "    <tr style=\"text-align: right;\">\n",
       "      <th></th>\n",
       "      <th>Tipo Titulo</th>\n",
       "      <th>Data Vencimento</th>\n",
       "      <th>Data Base</th>\n",
       "      <th>Taxa Compra Manha</th>\n",
       "      <th>Taxa Venda Manha</th>\n",
       "      <th>PU Compra Manha</th>\n",
       "      <th>PU Venda Manha</th>\n",
       "      <th>PU Base Manha</th>\n",
       "    </tr>\n",
       "  </thead>\n",
       "  <tbody>\n",
       "    <tr>\n",
       "      <th>0</th>\n",
       "      <td>Tesouro IPCA+</td>\n",
       "      <td>15/08/2024</td>\n",
       "      <td>24/04/2018</td>\n",
       "      <td>4,56</td>\n",
       "      <td>4,68</td>\n",
       "      <td>2318,97</td>\n",
       "      <td>2302,31</td>\n",
       "      <td>2301,68</td>\n",
       "    </tr>\n",
       "    <tr>\n",
       "      <th>1</th>\n",
       "      <td>Tesouro Prefixado</td>\n",
       "      <td>01/01/2023</td>\n",
       "      <td>24/04/2018</td>\n",
       "      <td>9,07</td>\n",
       "      <td>9,19</td>\n",
       "      <td>666,41</td>\n",
       "      <td>662,99</td>\n",
       "      <td>662,76</td>\n",
       "    </tr>\n",
       "    <tr>\n",
       "      <th>2</th>\n",
       "      <td>Tesouro Prefixado com Juros Semestrais</td>\n",
       "      <td>01/01/2021</td>\n",
       "      <td>24/04/2018</td>\n",
       "      <td>7,78</td>\n",
       "      <td>7,90</td>\n",
       "      <td>1081,56</td>\n",
       "      <td>1078,72</td>\n",
       "      <td>1078,40</td>\n",
       "    </tr>\n",
       "    <tr>\n",
       "      <th>3</th>\n",
       "      <td>Tesouro Prefixado</td>\n",
       "      <td>01/01/2019</td>\n",
       "      <td>03/04/2018</td>\n",
       "      <td>6,14</td>\n",
       "      <td>6,26</td>\n",
       "      <td>956,74</td>\n",
       "      <td>955,94</td>\n",
       "      <td>955,71</td>\n",
       "    </tr>\n",
       "    <tr>\n",
       "      <th>4</th>\n",
       "      <td>Tesouro IPCA+ com Juros Semestrais</td>\n",
       "      <td>15/05/2035</td>\n",
       "      <td>03/04/2018</td>\n",
       "      <td>5,00</td>\n",
       "      <td>5,12</td>\n",
       "      <td>3484,09</td>\n",
       "      <td>3440,37</td>\n",
       "      <td>3439,54</td>\n",
       "    </tr>\n",
       "  </tbody>\n",
       "</table>\n",
       "</div>"
      ],
      "text/plain": [
       "                              Tipo Titulo Data Vencimento   Data Base  \\\n",
       "0                           Tesouro IPCA+      15/08/2024  24/04/2018   \n",
       "1                       Tesouro Prefixado      01/01/2023  24/04/2018   \n",
       "2  Tesouro Prefixado com Juros Semestrais      01/01/2021  24/04/2018   \n",
       "3                       Tesouro Prefixado      01/01/2019  03/04/2018   \n",
       "4      Tesouro IPCA+ com Juros Semestrais      15/05/2035  03/04/2018   \n",
       "\n",
       "  Taxa Compra Manha Taxa Venda Manha PU Compra Manha PU Venda Manha  \\\n",
       "0              4,56             4,68         2318,97        2302,31   \n",
       "1              9,07             9,19          666,41         662,99   \n",
       "2              7,78             7,90         1081,56        1078,72   \n",
       "3              6,14             6,26          956,74         955,94   \n",
       "4              5,00             5,12         3484,09        3440,37   \n",
       "\n",
       "  PU Base Manha  \n",
       "0       2301,68  \n",
       "1        662,76  \n",
       "2       1078,40  \n",
       "3        955,71  \n",
       "4       3439,54  "
      ]
     },
     "execution_count": 3,
     "metadata": {},
     "output_type": "execute_result"
    }
   ],
   "source": [
    "data.head(5)"
   ]
  },
  {
   "cell_type": "code",
   "execution_count": 4,
   "metadata": {},
   "outputs": [
    {
     "data": {
      "text/plain": [
       "Index(['Tipo Titulo', 'Data Vencimento', 'Data Base', 'Taxa Compra Manha',\n",
       "       'Taxa Venda Manha', 'PU Compra Manha', 'PU Venda Manha',\n",
       "       'PU Base Manha'],\n",
       "      dtype='object')"
      ]
     },
     "execution_count": 4,
     "metadata": {},
     "output_type": "execute_result"
    }
   ],
   "source": [
    "data.columns"
   ]
  },
  {
   "cell_type": "code",
   "execution_count": 5,
   "metadata": {},
   "outputs": [
    {
     "name": "stdout",
     "output_type": "stream",
     "text": [
      "<class 'pandas.core.frame.DataFrame'>\n",
      "RangeIndex: 129701 entries, 0 to 129700\n",
      "Data columns (total 8 columns):\n",
      " #   Column             Non-Null Count   Dtype \n",
      "---  ------             --------------   ----- \n",
      " 0   Tipo Titulo        129701 non-null  object\n",
      " 1   Data Vencimento    129701 non-null  object\n",
      " 2   Data Base          129701 non-null  object\n",
      " 3   Taxa Compra Manha  129701 non-null  object\n",
      " 4   Taxa Venda Manha   129701 non-null  object\n",
      " 5   PU Compra Manha    129701 non-null  object\n",
      " 6   PU Venda Manha     129701 non-null  object\n",
      " 7   PU Base Manha      129701 non-null  object\n",
      "dtypes: object(8)\n",
      "memory usage: 7.9+ MB\n"
     ]
    }
   ],
   "source": [
    "#Check formato dos dados\n",
    "data.info()"
   ]
  },
  {
   "cell_type": "code",
   "execution_count": 6,
   "metadata": {},
   "outputs": [
    {
     "data": {
      "text/plain": [
       "Tipo Titulo          0\n",
       "Data Vencimento      0\n",
       "Data Base            0\n",
       "Taxa Compra Manha    0\n",
       "Taxa Venda Manha     0\n",
       "PU Compra Manha      0\n",
       "PU Venda Manha       0\n",
       "PU Base Manha        0\n",
       "dtype: int64"
      ]
     },
     "execution_count": 6,
     "metadata": {},
     "output_type": "execute_result"
    }
   ],
   "source": [
    "data.isnull().sum()"
   ]
  },
  {
   "cell_type": "code",
   "execution_count": 7,
   "metadata": {},
   "outputs": [
    {
     "data": {
      "text/html": [
       "<div>\n",
       "<style scoped>\n",
       "    .dataframe tbody tr th:only-of-type {\n",
       "        vertical-align: middle;\n",
       "    }\n",
       "\n",
       "    .dataframe tbody tr th {\n",
       "        vertical-align: top;\n",
       "    }\n",
       "\n",
       "    .dataframe thead th {\n",
       "        text-align: right;\n",
       "    }\n",
       "</style>\n",
       "<table border=\"1\" class=\"dataframe\">\n",
       "  <thead>\n",
       "    <tr style=\"text-align: right;\">\n",
       "      <th></th>\n",
       "      <th>Data Vencimento</th>\n",
       "      <th>Data Base</th>\n",
       "      <th>Taxa Compra Manha</th>\n",
       "      <th>Taxa Venda Manha</th>\n",
       "      <th>PU Compra Manha</th>\n",
       "      <th>PU Venda Manha</th>\n",
       "      <th>PU Base Manha</th>\n",
       "    </tr>\n",
       "    <tr>\n",
       "      <th>Tipo Titulo</th>\n",
       "      <th></th>\n",
       "      <th></th>\n",
       "      <th></th>\n",
       "      <th></th>\n",
       "      <th></th>\n",
       "      <th></th>\n",
       "      <th></th>\n",
       "    </tr>\n",
       "  </thead>\n",
       "  <tbody>\n",
       "    <tr>\n",
       "      <th>Tesouro IGPM+ com Juros Semestrais</th>\n",
       "      <td>14947</td>\n",
       "      <td>14947</td>\n",
       "      <td>14947</td>\n",
       "      <td>14947</td>\n",
       "      <td>14947</td>\n",
       "      <td>14947</td>\n",
       "      <td>14947</td>\n",
       "    </tr>\n",
       "    <tr>\n",
       "      <th>Tesouro IPCA+</th>\n",
       "      <td>14169</td>\n",
       "      <td>14169</td>\n",
       "      <td>14169</td>\n",
       "      <td>14169</td>\n",
       "      <td>14169</td>\n",
       "      <td>14169</td>\n",
       "      <td>14169</td>\n",
       "    </tr>\n",
       "    <tr>\n",
       "      <th>Tesouro IPCA+ com Juros Semestrais</th>\n",
       "      <td>36315</td>\n",
       "      <td>36315</td>\n",
       "      <td>36315</td>\n",
       "      <td>36315</td>\n",
       "      <td>36315</td>\n",
       "      <td>36315</td>\n",
       "      <td>36315</td>\n",
       "    </tr>\n",
       "    <tr>\n",
       "      <th>Tesouro Prefixado</th>\n",
       "      <td>23771</td>\n",
       "      <td>23771</td>\n",
       "      <td>23771</td>\n",
       "      <td>23771</td>\n",
       "      <td>23771</td>\n",
       "      <td>23771</td>\n",
       "      <td>23771</td>\n",
       "    </tr>\n",
       "    <tr>\n",
       "      <th>Tesouro Prefixado com Juros Semestrais</th>\n",
       "      <td>22642</td>\n",
       "      <td>22642</td>\n",
       "      <td>22642</td>\n",
       "      <td>22642</td>\n",
       "      <td>22642</td>\n",
       "      <td>22642</td>\n",
       "      <td>22642</td>\n",
       "    </tr>\n",
       "    <tr>\n",
       "      <th>Tesouro Renda+ Aposentadoria Extra</th>\n",
       "      <td>480</td>\n",
       "      <td>480</td>\n",
       "      <td>480</td>\n",
       "      <td>480</td>\n",
       "      <td>480</td>\n",
       "      <td>480</td>\n",
       "      <td>480</td>\n",
       "    </tr>\n",
       "    <tr>\n",
       "      <th>Tesouro Selic</th>\n",
       "      <td>17377</td>\n",
       "      <td>17377</td>\n",
       "      <td>17377</td>\n",
       "      <td>17377</td>\n",
       "      <td>17377</td>\n",
       "      <td>17377</td>\n",
       "      <td>17377</td>\n",
       "    </tr>\n",
       "  </tbody>\n",
       "</table>\n",
       "</div>"
      ],
      "text/plain": [
       "                                        Data Vencimento  Data Base  \\\n",
       "Tipo Titulo                                                          \n",
       "Tesouro IGPM+ com Juros Semestrais                14947      14947   \n",
       "Tesouro IPCA+                                     14169      14169   \n",
       "Tesouro IPCA+ com Juros Semestrais                36315      36315   \n",
       "Tesouro Prefixado                                 23771      23771   \n",
       "Tesouro Prefixado com Juros Semestrais            22642      22642   \n",
       "Tesouro Renda+ Aposentadoria Extra                  480        480   \n",
       "Tesouro Selic                                     17377      17377   \n",
       "\n",
       "                                        Taxa Compra Manha  Taxa Venda Manha  \\\n",
       "Tipo Titulo                                                                   \n",
       "Tesouro IGPM+ com Juros Semestrais                  14947             14947   \n",
       "Tesouro IPCA+                                       14169             14169   \n",
       "Tesouro IPCA+ com Juros Semestrais                  36315             36315   \n",
       "Tesouro Prefixado                                   23771             23771   \n",
       "Tesouro Prefixado com Juros Semestrais              22642             22642   \n",
       "Tesouro Renda+ Aposentadoria Extra                    480               480   \n",
       "Tesouro Selic                                       17377             17377   \n",
       "\n",
       "                                        PU Compra Manha  PU Venda Manha  \\\n",
       "Tipo Titulo                                                               \n",
       "Tesouro IGPM+ com Juros Semestrais                14947           14947   \n",
       "Tesouro IPCA+                                     14169           14169   \n",
       "Tesouro IPCA+ com Juros Semestrais                36315           36315   \n",
       "Tesouro Prefixado                                 23771           23771   \n",
       "Tesouro Prefixado com Juros Semestrais            22642           22642   \n",
       "Tesouro Renda+ Aposentadoria Extra                  480             480   \n",
       "Tesouro Selic                                     17377           17377   \n",
       "\n",
       "                                        PU Base Manha  \n",
       "Tipo Titulo                                            \n",
       "Tesouro IGPM+ com Juros Semestrais              14947  \n",
       "Tesouro IPCA+                                   14169  \n",
       "Tesouro IPCA+ com Juros Semestrais              36315  \n",
       "Tesouro Prefixado                               23771  \n",
       "Tesouro Prefixado com Juros Semestrais          22642  \n",
       "Tesouro Renda+ Aposentadoria Extra                480  \n",
       "Tesouro Selic                                   17377  "
      ]
     },
     "execution_count": 7,
     "metadata": {},
     "output_type": "execute_result"
    }
   ],
   "source": [
    "data.groupby(['Tipo Titulo']).count()"
   ]
  },
  {
   "cell_type": "code",
   "execution_count": 8,
   "metadata": {},
   "outputs": [],
   "source": [
    "#Troca das vírgulas pelos pontos para que seja possível converter de string para float\n",
    "data=data.replace(',', '.', regex=True)"
   ]
  },
  {
   "cell_type": "code",
   "execution_count": 9,
   "metadata": {},
   "outputs": [],
   "source": [
    "#Converção de datas do formato string para datetime\n",
    "data['Data Vencimento']=pd.to_datetime(data['Data Vencimento'])\n",
    "data['Data Base']=pd.to_datetime(data['Data Base'])"
   ]
  },
  {
   "cell_type": "code",
   "execution_count": 10,
   "metadata": {},
   "outputs": [],
   "source": [
    "#Convertendo valores do formato string para float\n",
    "data['Taxa Compra Manha']=data['Taxa Compra Manha'].astype(float)\n",
    "data['Taxa Venda Manha']=data['Taxa Venda Manha'].astype(float)\n",
    "data['PU Compra Manha']=data['PU Compra Manha'].astype(float)\n",
    "data['PU Venda Manha']=data['PU Venda Manha'].astype(float)\n",
    "data['PU Base Manha']=data['PU Base Manha'].astype(float)"
   ]
  },
  {
   "cell_type": "code",
   "execution_count": 11,
   "metadata": {},
   "outputs": [
    {
     "name": "stdout",
     "output_type": "stream",
     "text": [
      "<class 'pandas.core.frame.DataFrame'>\n",
      "RangeIndex: 129701 entries, 0 to 129700\n",
      "Data columns (total 8 columns):\n",
      " #   Column             Non-Null Count   Dtype         \n",
      "---  ------             --------------   -----         \n",
      " 0   Tipo Titulo        129701 non-null  object        \n",
      " 1   Data Vencimento    129701 non-null  datetime64[ns]\n",
      " 2   Data Base          129701 non-null  datetime64[ns]\n",
      " 3   Taxa Compra Manha  129701 non-null  float64       \n",
      " 4   Taxa Venda Manha   129701 non-null  float64       \n",
      " 5   PU Compra Manha    129701 non-null  float64       \n",
      " 6   PU Venda Manha     129701 non-null  float64       \n",
      " 7   PU Base Manha      129701 non-null  float64       \n",
      "dtypes: datetime64[ns](2), float64(5), object(1)\n",
      "memory usage: 7.9+ MB\n"
     ]
    }
   ],
   "source": [
    "data.info()"
   ]
  },
  {
   "cell_type": "code",
   "execution_count": 12,
   "metadata": {},
   "outputs": [
    {
     "data": {
      "text/html": [
       "<div>\n",
       "<style scoped>\n",
       "    .dataframe tbody tr th:only-of-type {\n",
       "        vertical-align: middle;\n",
       "    }\n",
       "\n",
       "    .dataframe tbody tr th {\n",
       "        vertical-align: top;\n",
       "    }\n",
       "\n",
       "    .dataframe thead th {\n",
       "        text-align: right;\n",
       "    }\n",
       "</style>\n",
       "<table border=\"1\" class=\"dataframe\">\n",
       "  <thead>\n",
       "    <tr style=\"text-align: right;\">\n",
       "      <th></th>\n",
       "      <th>Taxa Compra Manha</th>\n",
       "      <th>Taxa Venda Manha</th>\n",
       "      <th>PU Compra Manha</th>\n",
       "      <th>PU Venda Manha</th>\n",
       "      <th>PU Base Manha</th>\n",
       "    </tr>\n",
       "  </thead>\n",
       "  <tbody>\n",
       "    <tr>\n",
       "      <th>count</th>\n",
       "      <td>129701.000000</td>\n",
       "      <td>129701.000000</td>\n",
       "      <td>129701.000000</td>\n",
       "      <td>129701.000000</td>\n",
       "      <td>129701.000000</td>\n",
       "    </tr>\n",
       "    <tr>\n",
       "      <th>mean</th>\n",
       "      <td>7.095339</td>\n",
       "      <td>7.166112</td>\n",
       "      <td>2436.869995</td>\n",
       "      <td>2426.057983</td>\n",
       "      <td>2425.845213</td>\n",
       "    </tr>\n",
       "    <tr>\n",
       "      <th>std</th>\n",
       "      <td>4.403479</td>\n",
       "      <td>4.405195</td>\n",
       "      <td>2227.410926</td>\n",
       "      <td>2222.079793</td>\n",
       "      <td>2221.535894</td>\n",
       "    </tr>\n",
       "    <tr>\n",
       "      <th>min</th>\n",
       "      <td>-3.530000</td>\n",
       "      <td>-3.410000</td>\n",
       "      <td>0.000000</td>\n",
       "      <td>0.000000</td>\n",
       "      <td>0.000000</td>\n",
       "    </tr>\n",
       "    <tr>\n",
       "      <th>25%</th>\n",
       "      <td>4.460000</td>\n",
       "      <td>4.550000</td>\n",
       "      <td>956.330000</td>\n",
       "      <td>954.660000</td>\n",
       "      <td>954.600000</td>\n",
       "    </tr>\n",
       "    <tr>\n",
       "      <th>50%</th>\n",
       "      <td>6.500000</td>\n",
       "      <td>6.580000</td>\n",
       "      <td>1683.130000</td>\n",
       "      <td>1678.140000</td>\n",
       "      <td>1678.050000</td>\n",
       "    </tr>\n",
       "    <tr>\n",
       "      <th>75%</th>\n",
       "      <td>10.390000</td>\n",
       "      <td>10.460000</td>\n",
       "      <td>3161.090000</td>\n",
       "      <td>3145.300000</td>\n",
       "      <td>3144.430000</td>\n",
       "    </tr>\n",
       "    <tr>\n",
       "      <th>max</th>\n",
       "      <td>20.100000</td>\n",
       "      <td>20.130000</td>\n",
       "      <td>13148.820000</td>\n",
       "      <td>13140.320000</td>\n",
       "      <td>13140.320000</td>\n",
       "    </tr>\n",
       "  </tbody>\n",
       "</table>\n",
       "</div>"
      ],
      "text/plain": [
       "       Taxa Compra Manha  Taxa Venda Manha  PU Compra Manha  PU Venda Manha  \\\n",
       "count      129701.000000     129701.000000    129701.000000   129701.000000   \n",
       "mean            7.095339          7.166112      2436.869995     2426.057983   \n",
       "std             4.403479          4.405195      2227.410926     2222.079793   \n",
       "min            -3.530000         -3.410000         0.000000        0.000000   \n",
       "25%             4.460000          4.550000       956.330000      954.660000   \n",
       "50%             6.500000          6.580000      1683.130000     1678.140000   \n",
       "75%            10.390000         10.460000      3161.090000     3145.300000   \n",
       "max            20.100000         20.130000     13148.820000    13140.320000   \n",
       "\n",
       "       PU Base Manha  \n",
       "count  129701.000000  \n",
       "mean     2425.845213  \n",
       "std      2221.535894  \n",
       "min         0.000000  \n",
       "25%       954.600000  \n",
       "50%      1678.050000  \n",
       "75%      3144.430000  \n",
       "max     13140.320000  "
      ]
     },
     "execution_count": 12,
     "metadata": {},
     "output_type": "execute_result"
    }
   ],
   "source": [
    "data[['Taxa Compra Manha',\n",
    "       'Taxa Venda Manha', \n",
    "       'PU Compra Manha', \n",
    "       'PU Venda Manha',\n",
    "       'PU Base Manha']].describe()"
   ]
  },
  {
   "cell_type": "code",
   "execution_count": 13,
   "metadata": {},
   "outputs": [
    {
     "data": {
      "text/plain": [
       "[<matplotlib.lines.Line2D at 0x1f68c2f0850>]"
      ]
     },
     "execution_count": 13,
     "metadata": {},
     "output_type": "execute_result"
    },
    {
     "data": {
      "image/png": "[encoded data removed]",
      "text/plain": [
       "<Figure size 864x360 with 1 Axes>"
      ]
     },
     "metadata": {
      "needs_background": "light"
     },
     "output_type": "display_data"
    }
   ],
   "source": [
    "import matplotlib.pyplot as plt\n",
    "\n",
    "data['Ano Base']=pd.DatetimeIndex(data['Data Base']).year\n",
    "\n",
    "Taxa_compra = data['Ano Base'].groupby(data['Taxa Compra Manha']).mean()\n",
    "\n",
    "fig,ax=plt.subplots(figsize=(12,5))\n",
    "ax.plot(Taxa_compra)"
   ]
  },
  {
   "cell_type": "code",
   "execution_count": 22,
   "metadata": {},
   "outputs": [
    {
     "data": {
      "text/plain": [
       "[<matplotlib.lines.Line2D at 0x1f68fa577f0>]"
      ]
     },
     "execution_count": 22,
     "metadata": {},
     "output_type": "execute_result"
    },
    {
     "data": {
      "image/png": "[encoded data removed]",
      "text/plain": [
       "<Figure size 864x360 with 1 Axes>"
      ]
     },
     "metadata": {
      "needs_background": "light"
     },
     "output_type": "display_data"
    }
   ],
   "source": [
    "Taxa_compra = data['Taxa Compra Manha'].groupby(data['Ano Base']).mean()\n",
    "\n",
    "fig,ax=plt.subplots(figsize=(12,5))\n",
    "ax.plot(Taxa_compra)"
   ]
  },
  {
   "cell_type": "code",
   "execution_count": 51,
   "metadata": {},
   "outputs": [
    {
     "data": {
      "text/plain": [
       "[<matplotlib.lines.Line2D at 0x1f6a90cf820>]"
      ]
     },
     "execution_count": 51,
     "metadata": {},
     "output_type": "execute_result"
    },
    {
     "data": {
      "image/png": "[encoded data removed]",
      "text/plain": [
       "<Figure size 864x360 with 1 Axes>"
      ]
     },
     "metadata": {
      "needs_background": "light"
     },
     "output_type": "display_data"
    }
   ],
   "source": [
    "TituloSelic = data.loc[data['Tipo Titulo']== 'Tesouro Selic']\n",
    "\n",
    "GraficoSelic = TituloSelic.groupby('Ano Base')['Taxa Compra Manha'].mean()\n",
    "\n",
    "fig,ax=plt.subplots(figsize=(12,5))\n",
    "ax.plot(GraficoSelic)"
   ]
  },
  {
   "cell_type": "code",
   "execution_count": 42,
   "metadata": {},
   "outputs": [
    {
     "data": {
      "image/png": "[encoded data removed]",
      "text/plain": [
       "<Figure size 432x288 with 1 Axes>"
      ]
     },
     "metadata": {
      "needs_background": "light"
     },
     "output_type": "display_data"
    }
   ],
   "source": [
    "x = np.arange(10)\n",
    "y = np.random.rand(10)\n",
    "\n",
    "fig, ax = plt.subplots()\n",
    "ax.plot(x, y)\n",
    "\n",
    "# Definindo o espaçamento do eixo x\n",
    "ax.set(xlim=(x[0]-0.5, x[-1]+0.5))\n",
    "\n",
    "plt.show()"
   ]
  },
  {
   "cell_type": "code",
   "execution_count": 52,
   "metadata": {},
   "outputs": [
    {
     "data": {
      "text/plain": [
       "[<matplotlib.lines.Line2D at 0x1f68fac3070>]"
      ]
     },
     "execution_count": 52,
     "metadata": {},
     "output_type": "execute_result"
    },
    {
     "data": {
      "image/png": "[encoded data removed]",
      "text/plain": [
       "<Figure size 864x360 with 1 Axes>"
      ]
     },
     "metadata": {
      "needs_background": "light"
     },
     "output_type": "display_data"
    }
   ],
   "source": [
    "GraficoSelic = TituloSelic.groupby('Ano Base')['Taxa Venda Manha'].mean()\n",
    "\n",
    "fig,ax=plt.subplots(figsize=(12,5))\n",
    "ax.plot(GraficoSelic)"
   ]
  },
  {
   "cell_type": "code",
   "execution_count": 53,
   "metadata": {},
   "outputs": [
    {
     "data": {
      "text/plain": [
       "array(['Tesouro IPCA+', 'Tesouro Prefixado',\n",
       "       'Tesouro Prefixado com Juros Semestrais',\n",
       "       'Tesouro IPCA+ com Juros Semestrais', 'Tesouro Selic',\n",
       "       'Tesouro IGPM+ com Juros Semestrais',\n",
       "       'Tesouro Renda+ Aposentadoria Extra'], dtype=object)"
      ]
     },
     "execution_count": 53,
     "metadata": {},
     "output_type": "execute_result"
    }
   ],
   "source": [
    "data['Tipo Titulo'].unique()"
   ]
  },
  {
   "cell_type": "code",
   "execution_count": null,
   "metadata": {},
   "outputs": [],
   "source": []
  },
  {
   "cell_type": "code",
   "execution_count": null,
   "metadata": {},
   "outputs": [],
   "source": []
  },
  {
   "cell_type": "code",
   "execution_count": null,
   "metadata": {},
   "outputs": [],
   "source": []
  }
 ],
 "metadata": {
  "kernelspec": {
   "display_name": "base",
   "language": "python",
   "name": "python3"
  },
  "language_info": {
   "codemirror_mode": {
    "name": "ipython",
    "version": 3
   },
   "file_extension": ".py",
   "mimetype": "text/x-python",
   "name": "python",
   "nbconvert_exporter": "python",
   "pygments_lexer": "ipython3",
   "version": "3.9.7"
  },
  "orig_nbformat": 4
 },
 "nbformat": 4,
 "nbformat_minor": 2
}

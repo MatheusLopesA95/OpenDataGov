{
 "cells": [
  {
   "cell_type": "code",
   "execution_count": 1,
   "metadata": {},
   "outputs": [],
   "source": [
    "import pandas as pd"
   ]
  },
  {
   "cell_type": "code",
   "execution_count": 2,
   "metadata": {},
   "outputs": [],
   "source": [
    "data = pd.read_csv('PrecoTaxaTesouroDireto.csv', sep=';')\n",
    "\n",
    "# https://dados.gov.br/dados/conjuntos-dados/taxas-dos-titulos-ofertados-pelo-tesouro-direto1"
   ]
  },
  {
   "cell_type": "code",
   "execution_count": 3,
   "metadata": {},
   "outputs": [
    {
     "data": {
      "text/html": [
       "<div>\n",
       "<style scoped>\n",
       "    .dataframe tbody tr th:only-of-type {\n",
       "        vertical-align: middle;\n",
       "    }\n",
       "\n",
       "    .dataframe tbody tr th {\n",
       "        vertical-align: top;\n",
       "    }\n",
       "\n",
       "    .dataframe thead th {\n",
       "        text-align: right;\n",
       "    }\n",
       "</style>\n",
       "<table border=\"1\" class=\"dataframe\">\n",
       "  <thead>\n",
       "    <tr style=\"text-align: right;\">\n",
       "      <th></th>\n",
       "      <th>Tipo Titulo</th>\n",
       "      <th>Data Vencimento</th>\n",
       "      <th>Data Base</th>\n",
       "      <th>Taxa Compra Manha</th>\n",
       "      <th>Taxa Venda Manha</th>\n",
       "      <th>PU Compra Manha</th>\n",
       "      <th>PU Venda Manha</th>\n",
       "      <th>PU Base Manha</th>\n",
       "    </tr>\n",
       "  </thead>\n",
       "  <tbody>\n",
       "    <tr>\n",
       "      <th>0</th>\n",
       "      <td>Tesouro IPCA+</td>\n",
       "      <td>15/08/2024</td>\n",
       "      <td>24/04/2018</td>\n",
       "      <td>4,56</td>\n",
       "      <td>4,68</td>\n",
       "      <td>2318,97</td>\n",
       "      <td>2302,31</td>\n",
       "      <td>2301,68</td>\n",
       "    </tr>\n",
       "    <tr>\n",
       "      <th>1</th>\n",
       "      <td>Tesouro Prefixado</td>\n",
       "      <td>01/01/2023</td>\n",
       "      <td>24/04/2018</td>\n",
       "      <td>9,07</td>\n",
       "      <td>9,19</td>\n",
       "      <td>666,41</td>\n",
       "      <td>662,99</td>\n",
       "      <td>662,76</td>\n",
       "    </tr>\n",
       "    <tr>\n",
       "      <th>2</th>\n",
       "      <td>Tesouro Prefixado com Juros Semestrais</td>\n",
       "      <td>01/01/2021</td>\n",
       "      <td>24/04/2018</td>\n",
       "      <td>7,78</td>\n",
       "      <td>7,90</td>\n",
       "      <td>1081,56</td>\n",
       "      <td>1078,72</td>\n",
       "      <td>1078,40</td>\n",
       "    </tr>\n",
       "    <tr>\n",
       "      <th>3</th>\n",
       "      <td>Tesouro Prefixado</td>\n",
       "      <td>01/01/2019</td>\n",
       "      <td>03/04/2018</td>\n",
       "      <td>6,14</td>\n",
       "      <td>6,26</td>\n",
       "      <td>956,74</td>\n",
       "      <td>955,94</td>\n",
       "      <td>955,71</td>\n",
       "    </tr>\n",
       "    <tr>\n",
       "      <th>4</th>\n",
       "      <td>Tesouro IPCA+ com Juros Semestrais</td>\n",
       "      <td>15/05/2035</td>\n",
       "      <td>03/04/2018</td>\n",
       "      <td>5,00</td>\n",
       "      <td>5,12</td>\n",
       "      <td>3484,09</td>\n",
       "      <td>3440,37</td>\n",
       "      <td>3439,54</td>\n",
       "    </tr>\n",
       "  </tbody>\n",
       "</table>\n",
       "</div>"
      ],
      "text/plain": [
       "                              Tipo Titulo Data Vencimento   Data Base  \\\n",
       "0                           Tesouro IPCA+      15/08/2024  24/04/2018   \n",
       "1                       Tesouro Prefixado      01/01/2023  24/04/2018   \n",
       "2  Tesouro Prefixado com Juros Semestrais      01/01/2021  24/04/2018   \n",
       "3                       Tesouro Prefixado      01/01/2019  03/04/2018   \n",
       "4      Tesouro IPCA+ com Juros Semestrais      15/05/2035  03/04/2018   \n",
       "\n",
       "  Taxa Compra Manha Taxa Venda Manha PU Compra Manha PU Venda Manha  \\\n",
       "0              4,56             4,68         2318,97        2302,31   \n",
       "1              9,07             9,19          666,41         662,99   \n",
       "2              7,78             7,90         1081,56        1078,72   \n",
       "3              6,14             6,26          956,74         955,94   \n",
       "4              5,00             5,12         3484,09        3440,37   \n",
       "\n",
       "  PU Base Manha  \n",
       "0       2301,68  \n",
       "1        662,76  \n",
       "2       1078,40  \n",
       "3        955,71  \n",
       "4       3439,54  "
      ]
     },
     "execution_count": 3,
     "metadata": {},
     "output_type": "execute_result"
    }
   ],
   "source": [
    "data.head(5)"
   ]
  },
  {
   "cell_type": "code",
   "execution_count": 4,
   "metadata": {},
   "outputs": [
    {
     "data": {
      "text/plain": [
       "Index(['Tipo Titulo', 'Data Vencimento', 'Data Base', 'Taxa Compra Manha',\n",
       "       'Taxa Venda Manha', 'PU Compra Manha', 'PU Venda Manha',\n",
       "       'PU Base Manha'],\n",
       "      dtype='object')"
      ]
     },
     "execution_count": 4,
     "metadata": {},
     "output_type": "execute_result"
    }
   ],
   "source": [
    "data.columns"
   ]
  },
  {
   "cell_type": "code",
   "execution_count": 8,
   "metadata": {},
   "outputs": [
    {
     "name": "stdout",
     "output_type": "stream",
     "text": [
      "<class 'pandas.core.frame.DataFrame'>\n",
      "RangeIndex: 129701 entries, 0 to 129700\n",
      "Data columns (total 8 columns):\n",
      " #   Column             Non-Null Count   Dtype \n",
      "---  ------             --------------   ----- \n",
      " 0   Tipo Titulo        129701 non-null  object\n",
      " 1   Data Vencimento    129701 non-null  object\n",
      " 2   Data Base          129701 non-null  object\n",
      " 3   Taxa Compra Manha  129701 non-null  object\n",
      " 4   Taxa Venda Manha   129701 non-null  object\n",
      " 5   PU Compra Manha    129701 non-null  object\n",
      " 6   PU Venda Manha     129701 non-null  object\n",
      " 7   PU Base Manha      129701 non-null  object\n",
      "dtypes: object(8)\n",
      "memory usage: 7.9+ MB\n"
     ]
    }
   ],
   "source": [
    "data.info()"
   ]
  },
  {
   "cell_type": "code",
   "execution_count": null,
   "metadata": {},
   "outputs": [],
   "source": []
  },
  {
   "cell_type": "code",
   "execution_count": null,
   "metadata": {},
   "outputs": [],
   "source": []
  },
  {
   "cell_type": "code",
   "execution_count": null,
   "metadata": {},
   "outputs": [],
   "source": []
  },
  {
   "cell_type": "code",
   "execution_count": null,
   "metadata": {},
   "outputs": [],
   "source": []
  }
 ],
 "metadata": {
  "kernelspec": {
   "display_name": "base",
   "language": "python",
   "name": "python3"
  },
  "language_info": {
   "codemirror_mode": {
    "name": "ipython",
    "version": 3
   },
   "file_extension": ".py",
   "mimetype": "text/x-python",
   "name": "python",
   "nbconvert_exporter": "python",
   "pygments_lexer": "ipython3",
   "version": "3.9.13"
  },
  "orig_nbformat": 4
 },
 "nbformat": 4,
 "nbformat_minor": 2
}
